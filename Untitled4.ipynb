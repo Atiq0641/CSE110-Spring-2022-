{
  "nbformat": 4,
  "nbformat_minor": 0,
  "metadata": {
    "colab": {
      "name": "Untitled4.ipynb",
      "provenance": [],
      "authorship_tag": "ABX9TyN77f8hra7AqrtmVLqujtA/",
      "include_colab_link": true
    },
    "kernelspec": {
      "name": "python3",
      "display_name": "Python 3"
    },
    "language_info": {
      "name": "python"
    }
  },
  "cells": [
    {
      "cell_type": "markdown",
      "metadata": {
        "id": "view-in-github",
        "colab_type": "text"
      },
      "source": [
        "<a href=\"https://colab.research.google.com/github/Atiq0641/CSE110-Spring-2022-/blob/main/Untitled4.ipynb\" target=\"_parent\"><img src=\"https://colab.research.google.com/assets/colab-badge.svg\" alt=\"Open In Colab\"/></a>"
      ]
    },
    {
      "cell_type": "markdown",
      "source": [
        "3"
      ],
      "metadata": {
        "id": "a-wpkQ6HnvQR"
      }
    },
    {
      "cell_type": "code",
      "source": [
        "#user_input=int(input())\n",
        "lst=[18201202,18104354,20101457,19203372]\n",
        "dict1={}\n",
        "#for i in range(user_input):\n",
        "for k in lst:\n",
        "  if str(k)[2]==\"1\":\n",
        "    if \"Spring\" not in dict1:\n",
        "      dict1[\"Spring\"]=[k]\n",
        "    else:\n",
        "      dict1[\"Spring\"]+=[k]\n",
        "  if str(k)[2]==\"2\":\n",
        "    if \"Fall\" not in dict1:\n",
        "       dict1[\"Fall\"]=[k]\n",
        "    else:\n",
        "      dict1[\"Fall\"]+=[k]\n",
        "  if str(k)[2]==\"3\":\n",
        "    if \"Summer\" not in dict1:\n",
        "      dict1[\"Summer\"]=[k]\n",
        "    else:\n",
        "      dict1[\"Summer\"]+=[k]\n",
        "print(dict1)                      "
      ],
      "metadata": {
        "colab": {
          "base_uri": "https://localhost:8080/"
        },
        "id": "wWwa36pvlA3O",
        "outputId": "e4fb1667-5cd0-42df-9a8d-630d02074cf0"
      },
      "execution_count": null,
      "outputs": [
        {
          "output_type": "stream",
          "name": "stdout",
          "text": [
            "{'Fall': [18201202, 19203372], 'Spring': [18104354, 20101457]}\n"
          ]
        }
      ]
    },
    {
      "cell_type": "markdown",
      "source": [
        "2"
      ],
      "metadata": {
        "id": "O6ciQLLXnumN"
      }
    },
    {
      "cell_type": "code",
      "source": [
        "user_input=str(input())\n",
        "empty_dict={}\n",
        "for i in range(len(user_input)):\n",
        "  if user_input[i]!=' ':\n",
        "    if user_input[i] not in empty_dict:\n",
        "      empty_dict[user_input[i]]=[i]\n",
        "    else:\n",
        "      empty_dict[user_input[i]]+=[i]\n",
        "print(empty_dict)      "
      ],
      "metadata": {
        "colab": {
          "base_uri": "https://localhost:8080/"
        },
        "id": "bM6Hb9fzjTim",
        "outputId": "8dff6fe7-7852-4989-b63d-5bed8b06b9a0"
      },
      "execution_count": null,
      "outputs": [
        {
          "output_type": "stream",
          "name": "stdout",
          "text": [
            "my student id is 010101\n",
            "{'m': [0], 'y': [1], 's': [3, 15], 't': [4, 9], 'u': [5], 'd': [6, 12], 'e': [7], 'n': [8], 'i': [11, 14], '0': [17, 19, 21], '1': [18, 20, 22]}\n"
          ]
        }
      ]
    },
    {
      "cell_type": "markdown",
      "source": [
        "1"
      ],
      "metadata": {
        "id": "p7ssqSCJnt_t"
      }
    },
    {
      "cell_type": "code",
      "source": [
        "user_input=str(input())\n",
        "user_input_lst=user_input.split(\" \")\n",
        "empty_dict={}\n",
        "for i in range(int(user_input_lst[0]),int(user_input_lst[1])+1):\n",
        "  if i%3==0 or i%5==0 or i%7==0:\n",
        "    if i%3==0:\n",
        "      if \"Divisible by 3\" not in empty_dict:\n",
        "        empty_dict[\"Divisible by 3\"]=[i]\n",
        "      else:\n",
        "        empty_dict[\"Divisible by 3\"]+=[i]\n",
        "    if i%5==0:\n",
        "      if \"Divisible by 5\" not in empty_dict:\n",
        "        empty_dict[\"Divisible by 5\"]=[i]\n",
        "      else:\n",
        "        empty_dict[\"Divisible by 5\"]+=[i]\n",
        "    if i%7==0:\n",
        "      if \"Divisible by 7\" not in empty_dict:\n",
        "        empty_dict[\"Divisible by 7\"]=[i]\n",
        "      else:\n",
        "        empty_dict[\"Divisible by 7\"]+=[i]          \n",
        "  else:\n",
        "    if \"None\" not in empty_dict:\n",
        "      empty_dict[\"None\"]=[i]\n",
        "    else:\n",
        "      empty_dict[\"None\"]+=[i]\n",
        "print(empty_dict)        "
      ],
      "metadata": {
        "colab": {
          "base_uri": "https://localhost:8080/"
        },
        "id": "vcvLFY47dVwo",
        "outputId": "5c295e8c-f96e-49eb-ad1a-bb819575bdf3"
      },
      "execution_count": null,
      "outputs": [
        {
          "output_type": "stream",
          "name": "stdout",
          "text": [
            "1 15\n",
            "{'None': [1, 2, 4, 8, 11, 13], 'Divisible by 3': [3, 6, 9, 12, 15], 'Divisible by 5': [5, 10, 15], 'Divisible by 7': [7, 14]}\n"
          ]
        }
      ]
    }
  ]
}